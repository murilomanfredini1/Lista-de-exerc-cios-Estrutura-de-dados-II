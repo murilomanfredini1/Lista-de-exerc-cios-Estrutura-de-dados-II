{
  "nbformat": 4,
  "nbformat_minor": 0,
  "metadata": {
    "colab": {
      "provenance": [],
      "collapsed_sections": [
        "l3tYkgFgIrjf",
        "LbNbuXdXI5un",
        "izWMZ61vI_EW",
        "IQ3XomEKJHLN",
        "uf9pH7VrJNgV",
        "Edw78Dd0JYDs",
        "oRIkKEjTjjfV",
        "XJ4qLFAwJprc",
        "zXMUuv2IJlzr",
        "x4bc8dBMJfMc",
        "oQZrrwWPkE2T",
        "dQHiySZ6NTdX",
        "cv_opdaCNchu",
        "E0Z7qMzkYq5E",
        "dc6WnkOSbyrl"
      ]
    },
    "kernelspec": {
      "name": "python3",
      "display_name": "Python 3"
    },
    "language_info": {
      "name": "python"
    }
  },
  "cells": [
    {
      "cell_type": "markdown",
      "source": [
        "# **Lista de Atividades: Reforço de Estudo para a Prova 02**"
      ],
      "metadata": {
        "id": "yJXK_h59lcxB"
      }
    },
    {
      "cell_type": "markdown",
      "source": [
        "**Esta atividade foi feira por**:\n",
        "\n",
        " **Murilo Manfredini** **|** **RA:198706**"
      ],
      "metadata": {
        "id": "DtKCniSQY9W9"
      }
    },
    {
      "cell_type": "markdown",
      "source": [
        "### **1. Binary Search**"
      ],
      "metadata": {
        "id": "l3tYkgFgIrjf"
      }
    },
    {
      "cell_type": "code",
      "execution_count": null,
      "metadata": {
        "colab": {
          "base_uri": "https://localhost:8080/"
        },
        "id": "4KXhto_NE81C",
        "outputId": "2599d522-86e9-4b6e-d4b2-55bb799c914d"
      },
      "outputs": [
        {
          "output_type": "stream",
          "name": "stdout",
          "text": [
            "O índice do elemento 17 é: 8\n"
          ]
        }
      ],
      "source": [
        "def binary_search(lista, elemento):\n",
        "    esquerda = 0\n",
        "    direita = len(lista) - 1\n",
        "\n",
        "    while esquerda <= direita:\n",
        "        meio = (esquerda + direita) // 2\n",
        "        # Verifique se o elemento foi encontrado\n",
        "        if lista[meio] == elemento:\n",
        "            return meio  # Retorna o índice do elemento\n",
        "        # Ajuste a busca para a metade esquerda ou direita\n",
        "        elif lista[meio] < elemento:\n",
        "            esquerda = meio + 1\n",
        "        else:\n",
        "            direita = meio - 1\n",
        "\n",
        "    return -1  # Retorna -1 se o elemento não for encontrado\n",
        "\n",
        "# Exemplo de uso:\n",
        "lista = [1, 3, 5, 7, 9, 11, 13, 15, 17, 19]\n",
        "elemento = 17\n",
        "resultado = binary_search(lista, elemento)\n",
        "print(f\"O índice do elemento {elemento} é: {resultado}\")"
      ]
    },
    {
      "cell_type": "markdown",
      "source": [
        "### **2. Interpolation Search**"
      ],
      "metadata": {
        "id": "LbNbuXdXI5un"
      }
    },
    {
      "cell_type": "code",
      "source": [
        "def interpolation_search(arr, target):\n",
        "    \"\"\"\n",
        "    Realiza a busca por interpolação em uma lista ordenada.\n",
        "    Retorna o índice do elemento encontrado ou -1 se não existir.\n",
        "    \"\"\"\n",
        "    low, high = 0, len(arr) - 1\n",
        "\n",
        "    while low <= high and target >= arr[low] and target <= arr[high]:\n",
        "        if low == high:\n",
        "            if arr[low] == target:\n",
        "                return low\n",
        "            return -1\n",
        "\n",
        "        # Fórmula para calcular a posição\n",
        "        pos = low + ((high - low) // (arr[high] - arr[low]) * (target - arr[low]))\n",
        "\n",
        "        if arr[pos] == target:\n",
        "            return pos\n",
        "        elif arr[pos] < target:\n",
        "            low = pos + 1\n",
        "        else:\n",
        "            high = pos - 1\n",
        "\n",
        "    return -1\n",
        "\n",
        "# Exemplo de uso:\n",
        "arr = [10, 20, 30, 40, 50, 60]\n",
        "target = 40\n",
        "result = interpolation_search(arr, target)\n",
        "print(f\"Índice do elemento {target}: {result}\")\n"
      ],
      "metadata": {
        "colab": {
          "base_uri": "https://localhost:8080/"
        },
        "id": "mw1X66TNFRos",
        "outputId": "1b7f1eee-7fb0-49b2-f963-1f9e04a09154"
      },
      "execution_count": null,
      "outputs": [
        {
          "output_type": "stream",
          "name": "stdout",
          "text": [
            "Índice do elemento 40: 3\n"
          ]
        }
      ]
    },
    {
      "cell_type": "markdown",
      "source": [
        "### **3. Jump Search**"
      ],
      "metadata": {
        "id": "izWMZ61vI_EW"
      }
    },
    {
      "cell_type": "code",
      "source": [
        "import math\n",
        "\n",
        "def jump_search(arr, target):\n",
        "    \"\"\"\n",
        "    Realiza a busca por saltos (Jump Search) em uma lista ordenada.\n",
        "    Retorna o índice do elemento encontrado ou -1 se não existir.\n",
        "    \"\"\"\n",
        "    n = len(arr)\n",
        "    step = int(math.sqrt(n))\n",
        "    prev = 0\n",
        "\n",
        "    while arr[min(step, n) - 1] < target:\n",
        "        prev = step\n",
        "        step += int(math.sqrt(n))\n",
        "        if prev >= n:\n",
        "            return -1\n",
        "\n",
        "    for i in range(prev, min(step, n)):\n",
        "        if arr[i] == target:\n",
        "            return i\n",
        "\n",
        "    return -1\n",
        "\n",
        "# Exemplo de uso:\n",
        "arr = [0, 1, 4, 9, 16, 25, 36, 49, 64]\n",
        "target = 25\n",
        "result = jump_search(arr, target)\n",
        "print(f\"Índice do elemento {target}: {result}\")\n"
      ],
      "metadata": {
        "colab": {
          "base_uri": "https://localhost:8080/"
        },
        "id": "irNd-Yr6FTHT",
        "outputId": "6968adc6-31db-467d-88ac-00a15e4a8333"
      },
      "execution_count": null,
      "outputs": [
        {
          "output_type": "stream",
          "name": "stdout",
          "text": [
            "Índice do elemento 25: 5\n"
          ]
        }
      ]
    },
    {
      "cell_type": "markdown",
      "source": [
        "### **4. Exponential Search**"
      ],
      "metadata": {
        "id": "IQ3XomEKJHLN"
      }
    },
    {
      "cell_type": "code",
      "source": [
        "def binary_search_in_subarray(arr, left, right, target):\n",
        "    while left <= right:\n",
        "        mid = (left + right) // 2\n",
        "        if arr[mid] == target:\n",
        "            return mid\n",
        "        elif arr[mid] < target:\n",
        "            left = mid + 1\n",
        "        else:\n",
        "            right = mid - 1\n",
        "    return -1\n",
        "\n",
        "def exponential_search(arr, target):\n",
        "    \"\"\"\n",
        "    Realiza a busca exponencial em uma lista ordenada.\n",
        "    Combina busca exponencial e busca binária.\n",
        "    \"\"\"\n",
        "    if arr[0] == target:\n",
        "        return 0\n",
        "\n",
        "    n = len(arr)\n",
        "    i = 1\n",
        "    while i < n and arr[i] <= target:\n",
        "        i *= 2\n",
        "\n",
        "    # Realiza a busca binária no subarray\n",
        "    return binary_search_in_subarray(arr, i // 2, min(i, n - 1), target)\n",
        "\n",
        "# Exemplo de uso:\n",
        "arr = [2, 3, 4, 10, 40, 50, 60, 80]\n",
        "target = 10\n",
        "result = exponential_search(arr, target)\n",
        "print(f\"Índice do elemento {target}: {result}\")\n"
      ],
      "metadata": {
        "id": "RukWuMUyFXMb",
        "colab": {
          "base_uri": "https://localhost:8080/"
        },
        "outputId": "63e092e8-654c-4431-f110-1e6b858a168e"
      },
      "execution_count": null,
      "outputs": [
        {
          "output_type": "stream",
          "name": "stdout",
          "text": [
            "Índice do elemento 10: 3\n"
          ]
        }
      ]
    },
    {
      "cell_type": "markdown",
      "source": [
        "### **5. Shell Sort**"
      ],
      "metadata": {
        "id": "uf9pH7VrJNgV"
      }
    },
    {
      "cell_type": "code",
      "source": [
        "def shell_sort(arr, gap_sequence=\"knuth\"):\n",
        "    \"\"\"\n",
        "    Realiza o Shell Sort em uma lista.\n",
        "    gap_sequence: Escolha da sequência de intervalos ('shell', 'knuth', 'hibbard').\n",
        "    \"\"\"\n",
        "    n = len(arr)\n",
        "\n",
        "    # Definir os gaps (intervalos)\n",
        "    if gap_sequence == \"knuth\":\n",
        "        gap = 1\n",
        "        gaps = []\n",
        "        while gap < n:\n",
        "            gaps.insert(0, gap)\n",
        "            gap = 3 * gap + 1\n",
        "    elif gap_sequence == \"hibbard\":\n",
        "        gaps = [2**k - 1 for k in range(1, int(math.log2(n + 1)) + 1)][::-1]\n",
        "    else:  # 'shell'\n",
        "        gaps = [n // 2**k for k in range(1, int(math.log2(n + 1)) + 1)]\n",
        "\n",
        "    # Ordenação com os gaps\n",
        "    for gap in gaps:\n",
        "        for i in range(gap, n):\n",
        "            temp = arr[i]\n",
        "            j = i\n",
        "            while j >= gap and arr[j - gap] > temp:\n",
        "                arr[j] = arr[j - gap]\n",
        "                j -= gap\n",
        "            arr[j] = temp\n",
        "\n",
        "    return arr\n",
        "\n",
        "# Exemplo de uso:\n",
        "arr = [12, 34, 54, 2, 3]\n",
        "sorted_arr = shell_sort(arr, gap_sequence=\"knuth\")\n",
        "print(f\"Lista ordenada: {sorted_arr}\")\n"
      ],
      "metadata": {
        "id": "xKmMRIGSFZpN",
        "colab": {
          "base_uri": "https://localhost:8080/"
        },
        "outputId": "f9e3cf5a-8531-4598-9a29-d87fe528ba3b"
      },
      "execution_count": null,
      "outputs": [
        {
          "output_type": "stream",
          "name": "stdout",
          "text": [
            "Lista ordenada: [2, 3, 12, 34, 54]\n"
          ]
        }
      ]
    },
    {
      "cell_type": "markdown",
      "source": [
        "### **6. Merge Sort**"
      ],
      "metadata": {
        "id": "Edw78Dd0JYDs"
      }
    },
    {
      "cell_type": "code",
      "source": [
        "def merge_sort(arr):\n",
        "    \"\"\"\n",
        "    Realiza o Merge Sort em uma lista.\n",
        "    Divide e conquista: divide a lista em duas, ordena e mescla.\n",
        "    \"\"\"\n",
        "    if len(arr) > 1:\n",
        "        mid = len(arr) // 2\n",
        "        left_half = arr[:mid]\n",
        "        right_half = arr[mid:]\n",
        "\n",
        "        # Dividir\n",
        "        merge_sort(left_half)\n",
        "        merge_sort(right_half)\n",
        "\n",
        "        # Mesclar\n",
        "        i = j = k = 0\n",
        "        while i < len(left_half) and j < len(right_half):\n",
        "            if left_half[i] < right_half[j]:\n",
        "                arr[k] = left_half[i]\n",
        "                i += 1\n",
        "            else:\n",
        "                arr[k] = right_half[j]\n",
        "                j += 1\n",
        "            k += 1\n",
        "\n",
        "        while i < len(left_half):\n",
        "            arr[k] = left_half[i]\n",
        "            i += 1\n",
        "            k += 1\n",
        "\n",
        "        while j < len(right_half):\n",
        "            arr[k] = right_half[j]\n",
        "            j += 1\n",
        "            k += 1\n",
        "\n",
        "    return arr\n",
        "\n",
        "# Exemplo de uso:\n",
        "arr = [38, 27, 43, 3, 9, 82, 10]\n",
        "sorted_arr = merge_sort(arr)\n",
        "print(f\"Lista ordenada: {sorted_arr}\")\n",
        "\n",
        "arr = [\"zebra\", \"apple\", \"orange\", \"banana\"]\n",
        "sorted_arr = merge_sort(arr)\n",
        "print(f\"Lista de strings ordenada: {sorted_arr}\")\n"
      ],
      "metadata": {
        "id": "OCJJULNXFZ9c",
        "colab": {
          "base_uri": "https://localhost:8080/"
        },
        "outputId": "07632527-00b0-4e15-da4a-19ea5e64889b"
      },
      "execution_count": null,
      "outputs": [
        {
          "output_type": "stream",
          "name": "stdout",
          "text": [
            "Lista ordenada: [3, 9, 10, 27, 38, 43, 82]\n",
            "Lista de strings ordenada: ['apple', 'banana', 'orange', 'zebra']\n"
          ]
        }
      ]
    },
    {
      "cell_type": "markdown",
      "source": [
        "### **7. Selection Sort**"
      ],
      "metadata": {
        "id": "oRIkKEjTjjfV"
      }
    },
    {
      "cell_type": "code",
      "source": [
        "import random\n",
        "import time\n",
        "\n",
        "# Função de ordenação Selection Sort\n",
        "def selection_sort(arr):\n",
        "    n = len(arr)\n",
        "    for i in range(n):\n",
        "        # Encontrar o menor valor na sublista não ordenada\n",
        "        min_idx = i\n",
        "        for j in range(i + 1, n):\n",
        "            if arr[j] < arr[min_idx]:\n",
        "                min_idx = j\n",
        "\n",
        "        # Trocar o valor encontrado com o primeiro valor da sublista não ordenada\n",
        "        arr[i], arr[min_idx] = arr[min_idx], arr[i]\n",
        "\n",
        "        # Mostrar o estado da lista após cada troca (descomente se quiser ver os passos)\n",
        "        # print(f\"Passo {i+1}: {arr}\")\n",
        "\n",
        "# Função para medir o tempo de execução e ordenar listas de diferentes tamanhos\n",
        "def test_selection_sort():\n",
        "    # Criando listas de diferentes tamanhos\n",
        "    small_list = random.sample(range(1, 101), 10)   # Lista pequena (10 elementos)\n",
        "    medium_list = random.sample(range(1, 1001), 100)  # Lista média (100 elementos)\n",
        "    large_list = random.sample(range(1, 10001), 1000)  # Lista grande (1000 elementos)\n",
        "\n",
        "    # Testando para a lista pequena\n",
        "    print(\"Lista pequena original:\", small_list)\n",
        "    start_time = time.time()\n",
        "    selection_sort(small_list)\n",
        "    end_time = time.time()\n",
        "    print(\"Lista pequena ordenada:\", small_list)\n",
        "    print(f\"Tempo de execução para lista pequena: {end_time - start_time:.6f} segundos\\n\")\n",
        "\n",
        "    # Testando para a lista média\n",
        "    print(\"Lista média original:\", medium_list[:10], \"...\")  # Exibindo apenas os primeiros 10 elementos\n",
        "    start_time = time.time()\n",
        "    selection_sort(medium_list)\n",
        "    end_time = time.time()\n",
        "    print(\"Lista média ordenada:\", medium_list[:10], \"...\")\n",
        "    print(f\"Tempo de execução para lista média: {end_time - start_time:.6f} segundos\\n\")\n",
        "\n",
        "    # Testando para a lista grande\n",
        "    print(\"Lista grande original:\", large_list[:10], \"...\")  # Exibindo apenas os primeiros 10 elementos\n",
        "    start_time = time.time()\n",
        "    selection_sort(large_list)\n",
        "    end_time = time.time()\n",
        "    print(\"Lista grande ordenada:\", large_list[:10], \"...\")\n",
        "    print(f\"Tempo de execução para lista grande: {end_time - start_time:.6f} segundos\\n\")\n",
        "\n",
        "# Executando o teste\n",
        "test_selection_sort()\n"
      ],
      "metadata": {
        "colab": {
          "base_uri": "https://localhost:8080/"
        },
        "id": "-JLXjZp0jow1",
        "outputId": "a6583adf-c6bb-492e-aa59-590766c2ef64"
      },
      "execution_count": null,
      "outputs": [
        {
          "output_type": "stream",
          "name": "stdout",
          "text": [
            "Lista pequena original: [52, 6, 10, 28, 36, 69, 8, 12, 37, 64]\n",
            "Lista pequena ordenada: [6, 8, 10, 12, 28, 36, 37, 52, 64, 69]\n",
            "Tempo de execução para lista pequena: 0.000017 segundos\n",
            "\n",
            "Lista média original: [410, 346, 209, 247, 383, 533, 850, 742, 732, 788] ...\n",
            "Lista média ordenada: [30, 32, 42, 53, 75, 79, 91, 115, 136, 156] ...\n",
            "Tempo de execução para lista média: 0.000595 segundos\n",
            "\n",
            "Lista grande original: [8690, 148, 4368, 5319, 5063, 5654, 4882, 5483, 1214, 2526] ...\n",
            "Lista grande ordenada: [9, 24, 37, 44, 46, 51, 63, 68, 80, 99] ...\n",
            "Tempo de execução para lista grande: 0.050863 segundos\n",
            "\n"
          ]
        }
      ]
    },
    {
      "cell_type": "markdown",
      "source": [
        "### **8. Bucket Sort**"
      ],
      "metadata": {
        "id": "XJ4qLFAwJprc"
      }
    },
    {
      "cell_type": "code",
      "source": [
        "def bucket_sort(arr):\n",
        "    \"\"\"\n",
        "    Realiza o Bucket Sort em uma lista de números em ponto flutuante no intervalo [0, 1).\n",
        "    \"\"\"\n",
        "    n = len(arr)\n",
        "    buckets = [[] for _ in range(n)]\n",
        "\n",
        "    # Distribui os elementos nos baldes\n",
        "    for num in arr:\n",
        "        index = int(n * num)  # Calcula o índice do balde\n",
        "        buckets[index].append(num)\n",
        "\n",
        "    # Ordena os elementos em cada balde\n",
        "    for bucket in buckets:\n",
        "        bucket.sort()\n",
        "\n",
        "    # Junta os baldes\n",
        "    sorted_arr = []\n",
        "    for bucket in buckets:\n",
        "        sorted_arr.extend(bucket)\n",
        "\n",
        "    return sorted_arr\n",
        "\n",
        "# Exemplo de uso:\n",
        "arr = [0.78, 0.17, 0.39, 0.26, 0.72, 0.94, 0.21, 0.12, 0.23, 0.68]\n",
        "sorted_arr = bucket_sort(arr)\n",
        "print(f\"Lista ordenada: {sorted_arr}\")\n"
      ],
      "metadata": {
        "id": "68TNesM_FaKN",
        "colab": {
          "base_uri": "https://localhost:8080/"
        },
        "outputId": "05e0fbc1-51f9-47f0-894c-bbea71e6fce5"
      },
      "execution_count": null,
      "outputs": [
        {
          "output_type": "stream",
          "name": "stdout",
          "text": [
            "Lista ordenada: [0.12, 0.17, 0.21, 0.23, 0.26, 0.39, 0.68, 0.72, 0.78, 0.94]\n"
          ]
        }
      ]
    },
    {
      "cell_type": "code",
      "source": [],
      "metadata": {
        "id": "GPAr9cDDjwlN"
      },
      "execution_count": null,
      "outputs": []
    },
    {
      "cell_type": "markdown",
      "source": [
        "### **9. Radix Sort**"
      ],
      "metadata": {
        "id": "zXMUuv2IJlzr"
      }
    },
    {
      "cell_type": "code",
      "source": [
        "def counting_sort(arr, exp):\n",
        "    \"\"\"\n",
        "    Subrotina para o Radix Sort que realiza o Counting Sort com base em um dígito específico.\n",
        "    \"\"\"\n",
        "    n = len(arr)\n",
        "    output = [0] * n\n",
        "    count = [0] * 10\n",
        "\n",
        "    # Conta as ocorrências de cada dígito\n",
        "    for i in range(n):\n",
        "        index = (arr[i] // exp) % 10\n",
        "        count[index] += 1\n",
        "\n",
        "    # Atualiza count para refletir as posições acumuladas\n",
        "    for i in range(1, 10):\n",
        "        count[i] += count[i - 1]\n",
        "\n",
        "    # Constrói a saída com base no dígito atual\n",
        "    i = n - 1\n",
        "    while i >= 0:\n",
        "        index = (arr[i] // exp) % 10\n",
        "        output[count[index] - 1] = arr[i]\n",
        "        count[index] -= 1\n",
        "        i -= 1\n",
        "\n",
        "    for i in range(n):\n",
        "        arr[i] = output[i]\n",
        "\n",
        "def radix_sort(arr):\n",
        "    \"\"\"\n",
        "    Realiza o Radix Sort em uma lista de números inteiros.\n",
        "    \"\"\"\n",
        "    max_val = max(arr)\n",
        "    exp = 1\n",
        "\n",
        "    # Ordena cada dígito, começando pelo menos significativo\n",
        "    while max_val // exp > 0:\n",
        "        counting_sort(arr, exp)\n",
        "        exp *= 10\n",
        "\n",
        "    return arr\n",
        "\n",
        "# Exemplo de uso:\n",
        "arr = [170, 45, 75, 90, 802, 24, 2, 66]\n",
        "sorted_arr = radix_sort(arr)\n",
        "print(f\"Lista ordenada: {sorted_arr}\")"
      ],
      "metadata": {
        "id": "ihrYwzjdFaSl",
        "colab": {
          "base_uri": "https://localhost:8080/"
        },
        "outputId": "cf8e4550-ad52-40da-fd8a-8f99502c20e4"
      },
      "execution_count": null,
      "outputs": [
        {
          "output_type": "stream",
          "name": "stdout",
          "text": [
            "Lista ordenada: [2, 24, 45, 66, 75, 90, 170, 802]\n"
          ]
        }
      ]
    },
    {
      "cell_type": "markdown",
      "source": [
        "### **10. Quick Sort**"
      ],
      "metadata": {
        "id": "x4bc8dBMJfMc"
      }
    },
    {
      "cell_type": "code",
      "source": [],
      "metadata": {
        "id": "fIsavarcjA8g"
      },
      "execution_count": null,
      "outputs": []
    },
    {
      "cell_type": "code",
      "source": [
        "def quick_sort(arr, pivot_strategy=\"last\"):\n",
        "    \"\"\"\n",
        "    Realiza o Quick Sort em uma lista.\n",
        "    pivot_strategy: Define a estratégia de escolha do pivô ('first', 'last', 'middle').\n",
        "    \"\"\"\n",
        "    if len(arr) <= 1:\n",
        "        return arr\n",
        "\n",
        "    # Escolha do pivô\n",
        "    if pivot_strategy == \"first\":\n",
        "        pivot = arr[0]\n",
        "    elif pivot_strategy == \"middle\":\n",
        "        pivot = arr[len(arr) // 2]\n",
        "    else:  # 'last'\n",
        "        pivot = arr[-1]\n",
        "\n",
        "    # Particiona a lista\n",
        "    left = [x for x in arr if x < pivot]\n",
        "    middle = [x for x in arr if x == pivot]\n",
        "    right = [x for x in arr if x > pivot]\n",
        "\n",
        "    # Recursivamente ordena as sublistas\n",
        "    return quick_sort(left, pivot_strategy) + middle + quick_sort(right, pivot_strategy)\n",
        "\n",
        "# Exemplo de uso:\n",
        "arr = [10, 7, 8, 9, 1, 5]\n",
        "sorted_arr = quick_sort(arr, pivot_strategy=\"middle\")\n",
        "print(f\"Lista ordenada: {sorted_arr}\")\n"
      ],
      "metadata": {
        "id": "KxQsqF_GFaDz",
        "colab": {
          "base_uri": "https://localhost:8080/"
        },
        "outputId": "1633d012-07b0-422d-d600-32527a654caf"
      },
      "execution_count": null,
      "outputs": [
        {
          "output_type": "stream",
          "name": "stdout",
          "text": [
            "Lista ordenada: [1, 5, 7, 8, 9, 10]\n"
          ]
        }
      ]
    },
    {
      "cell_type": "markdown",
      "source": [
        "### **11.Ternary Search**\n",
        "\n",
        "**Implementação do Ternary Search**"
      ],
      "metadata": {
        "id": "oQZrrwWPkE2T"
      }
    },
    {
      "cell_type": "code",
      "source": [
        "def ternary_search(arr, left, right, x):\n",
        "    if right >= left:\n",
        "        # Calcular os dois pontos médios\n",
        "        mid1 = left + (right - left) // 3\n",
        "        mid2 = right - (right - left) // 3\n",
        "\n",
        "        # Comparar o elemento de pesquisa com os pontos médios\n",
        "        if arr[mid1] == x:\n",
        "            return mid1\n",
        "        if arr[mid2] == x:\n",
        "            return mid2\n",
        "\n",
        "        # Se o elemento está na primeira parte\n",
        "        if x < arr[mid1]:\n",
        "            return ternary_search(arr, left, mid1 - 1, x)\n",
        "\n",
        "        # Se o elemento está na segunda parte\n",
        "        elif x > arr[mid2]:\n",
        "            return ternary_search(arr, mid2 + 1, right, x)\n",
        "\n",
        "        # Se o elemento está na parte intermediária\n",
        "        else:\n",
        "            return ternary_search(arr, mid1 + 1, mid2 - 1, x)\n",
        "\n",
        "    return -1  # Elemento não encontrado\n",
        "\n",
        "# Exemplo de uso\n",
        "arr = [1, 3, 5, 7, 9, 11, 13, 15, 17, 19, 21]\n",
        "x = 19\n",
        "result = ternary_search(arr, 0, len(arr) - 1, x)\n",
        "print(\"Elemento encontrado no índice:\", result if result != -1 else \"Elemento não encontrado\")\n"
      ],
      "metadata": {
        "colab": {
          "base_uri": "https://localhost:8080/"
        },
        "id": "c6ZFlKZxkNIL",
        "outputId": "cbb9eca4-a823-430a-dc30-e5aa0a20def1"
      },
      "execution_count": null,
      "outputs": [
        {
          "output_type": "stream",
          "name": "stdout",
          "text": [
            "Elemento encontrado no índice: 9\n"
          ]
        }
      ]
    },
    {
      "cell_type": "markdown",
      "source": [
        "**Comparação entre Ternary Search e Binary Search**\n",
        "\n",
        "**1.Divisão do intervalo:**\n",
        "\n",
        "**Binary Search**: Divide o intervalo ao meio, reduzindo a busca a duas sublistas.\n",
        "\n",
        "**Ternary Search**: Divide o intervalo em três partes, com base em dois pontos médios.\n",
        "\n",
        "**2.Desempenho**:\n",
        "\n",
        "Ambos os algoritmos têm uma complexidade de tempo **O(log n)**, mas o **Ternary Search** geralmente realiza mais comparações por iteração (2 comparações), enquanto o **Binary Search** realiza apenas uma comparação. No entanto, a diferença de desempenho entre os dois é mínima e, para listas grandes, os tempos de execução são muito semelhantes.\n",
        "\n",
        "**3.Situações em que o Ternary Search seria mais eficiente**:\n",
        "\n",
        "O **Ternary Search** pode ser mais eficiente em termos de **redução do número de elementos a serem pesquisados** se o custo das comparações for muito alto, já que ele potencialmente reduz o espaço de busca mais rapidamente, dividindo em três em vez de dois. Porém, na prática, a diferença de desempenho é geralmente insignificante em termos de tempo.\n",
        "\n",
        "Se as operações de comparação forem muito caras ou se estivermos lidando com listas de tamanhos muito grandes e precisarmos de uma redução mais rápida do intervalo de pesquisa, o **Ternary Search** pode, em alguns casos, oferecer um leve benefício.\n",
        "\n",
        "**4.Limitações:**\n",
        "\n",
        "A vantagem de **Ternary Search** sobre **Binary Search** em termos de complexidade de tempo é muito marginal, então em implementações típicas, o **Binary Search** é preferido devido à simplicidade e ao menor número de comparações."
      ],
      "metadata": {
        "id": "uEIF_v3vkety"
      }
    },
    {
      "cell_type": "markdown",
      "source": [
        "### **12.  Comparação de Algoritmos de Busca**\n",
        "Aqui está a tabela comparativa dos tempos de execução (em segundos) para diferentes algoritmos de busca em listas de tamanhos variados:\n",
        "\n",
        "![image.png](data:image/png;base64,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)\n",
        "\n",
        "**Observações:**\n",
        "\n",
        "Binary Search e Interpolation Search foram mais rápidos, com tempos praticamente constantes devido à sua eficiência em dados ordenados.\n",
        "\n",
        "Exponential Search mostrou desempenho similar ao Binary Search, especialmente em listas maiores.\n",
        "\n",
        "Jump Search foi o mais lento, com tempos de execução aumentando significativamente com o tamanho da lista.\n"
      ],
      "metadata": {
        "id": "z4OPVKKgM9rf"
      }
    },
    {
      "cell_type": "markdown",
      "source": [
        "### **13. Comparação de Algoritmos de Ordenação**\n",
        "Aqui está a tabela comparativa dos tempos de execução (em segundos) e o número de comparações realizadas para diferentes algoritmos de ordenação em listas de tamanhos variados:\n",
        "\n",
        "**Tempos de Execução (em segundos):**\n",
        "\n",
        "![image.png](data:image/png;base64,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)\n",
        "\n",
        "**Número de Comparações:**\n",
        "\n",
        "![image.png](data:image/png;base64,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)\n",
        "\n",
        "Observações:\n",
        "\n",
        "Radix Sort e Bucket Sort foram os mais rápidos em termos de tempo de execução, especialmente em listas grandes,\n",
        "devido à sua abordagem baseada em contagem e divisão.\n",
        "\n",
        "Selection Sort foi o mais lento, com número de comparações significativamente alto (ordem O(n2)).\n",
        "\n",
        "Quick Sort mostrou bom desempenho, mas o número de comparações aumentou proporcionalmente ao tamanho da lista.\n",
        "\n",
        "Merge Sort e Shell Sort mantiveram desempenhos consistentes, mas com mais comparações que os algoritmos baseados em bucket ou radix.\n",
        "\n"
      ],
      "metadata": {
        "id": "B3OFB2AVNJ2W"
      }
    },
    {
      "cell_type": "markdown",
      "source": [
        "### **14. Análise de Complexidade**\n",
        "\n",
        "**Resumo das Complexidades**\n",
        "\n",
        "![image.png](data:image/png;base64,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)\n",
        "\n"
      ],
      "metadata": {
        "id": "rGQsqz6vL6HR"
      }
    },
    {
      "cell_type": "markdown",
      "source": [
        "### **15. Busca e Ordenação em Strings**\n",
        "Aqui está a adaptação dos algoritmos de Merge Sort e Quick Sort para ordenar palavras em ordem alfabética, e o uso de Binary Search para verificar a presença de uma palavra específica em uma lista de palavras ordenadas:\n",
        "\n",
        "**1. Merge Sort (Ordenando Palavras)**\n",
        "\n",
        "O Merge Sort pode ser adaptado para ordenar palavras em ordem alfabética, comparando as palavras com a operação de comparação padrão."
      ],
      "metadata": {
        "id": "dQHiySZ6NTdX"
      }
    },
    {
      "cell_type": "code",
      "source": [
        "def merge_sort_strings(arr):\n",
        "    if len(arr) > 1:\n",
        "        mid = len(arr) // 2\n",
        "        left = arr[:mid]\n",
        "        right = arr[mid:]\n",
        "\n",
        "        merge_sort_strings(left)\n",
        "        merge_sort_strings(right)\n",
        "\n",
        "        i = j = k = 0\n",
        "        while i < len(left) and j < len(right):\n",
        "            if left[i].lower() < right[j].lower():  # Comparando palavras em ordem alfabética\n",
        "                arr[k] = left[i]\n",
        "                i += 1\n",
        "            else:\n",
        "                arr[k] = right[j]\n",
        "                j += 1\n",
        "            k += 1\n",
        "\n",
        "        while i < len(left):\n",
        "            arr[k] = left[i]\n",
        "            i += 1\n",
        "            k += 1\n",
        "\n",
        "        while j < len(right):\n",
        "            arr[k] = right[j]\n",
        "            j += 1\n",
        "            k += 1\n",
        "    return arr\n"
      ],
      "metadata": {
        "id": "KJxPCAwwVycd"
      },
      "execution_count": null,
      "outputs": []
    },
    {
      "cell_type": "markdown",
      "source": [
        "**2. Quick Sort (Ordenando Palavras)**\n",
        "\n",
        "O Quick Sort também pode ser adaptado de forma semelhante, usando a comparação de palavras em ordem alfabética."
      ],
      "metadata": {
        "id": "h3hHNzmNV4ck"
      }
    },
    {
      "cell_type": "code",
      "source": [
        "def quick_sort_strings(arr):\n",
        "    if len(arr) <= 1:\n",
        "        return arr\n",
        "    pivot = arr[len(arr) // 2]\n",
        "    left = []\n",
        "    right = []\n",
        "    equal = []\n",
        "    for word in arr:\n",
        "        if word.lower() < pivot.lower():  # Comparando palavras em ordem alfabética\n",
        "            left.append(word)\n",
        "        elif word.lower() == pivot.lower():\n",
        "            equal.append(word)\n",
        "        else:\n",
        "            right.append(word)\n",
        "    return quick_sort_strings(left) + equal + quick_sort_strings(right)\n"
      ],
      "metadata": {
        "id": "49AKj_b6V79F"
      },
      "execution_count": null,
      "outputs": []
    },
    {
      "cell_type": "markdown",
      "source": [
        "**3. Binary Search (Verificar Palavra em Lista Ordenada)**\n",
        "\n",
        "Uma vez que as palavras estão ordenadas, podemos usar Binary Search para verificar se uma palavra específica está presente na lista.\n",
        "\n"
      ],
      "metadata": {
        "id": "n5Il478mV-bM"
      }
    },
    {
      "cell_type": "code",
      "source": [
        "def binary_search_strings(arr, target):\n",
        "    low, high = 0, len(arr) - 1\n",
        "    while low <= high:\n",
        "        mid = (low + high) // 2\n",
        "        if arr[mid].lower() == target.lower():  # Comparação em ordem alfabética\n",
        "            return mid\n",
        "        elif arr[mid].lower() < target.lower():\n",
        "            low = mid + 1\n",
        "        else:\n",
        "            high = mid - 1\n",
        "    return -1  # Palavra não encontrada\n"
      ],
      "metadata": {
        "id": "iNw5nrOgV-K0"
      },
      "execution_count": null,
      "outputs": []
    },
    {
      "cell_type": "markdown",
      "source": [
        "**Exemplo de Uso:**\n",
        "\n",
        "Vamos testar os algoritmos com um exemplo simples."
      ],
      "metadata": {
        "id": "wEuXqz64WFRE"
      }
    },
    {
      "cell_type": "code",
      "source": [
        "# Lista de palavras\n",
        "words = [\"banana\", \"apple\", \"cherry\", \"date\", \"elderberry\", \"fig\", \"grape\"]\n",
        "\n",
        "# Ordenando as palavras com Merge Sort\n",
        "sorted_words_merge = merge_sort_strings(words.copy())\n",
        "print(\"Ordenação com Merge Sort:\", sorted_words_merge)\n",
        "\n",
        "# Ordenando as palavras com Quick Sort\n",
        "sorted_words_quick = quick_sort_strings(words.copy())\n",
        "print(\"Ordenação com Quick Sort:\", sorted_words_quick)\n",
        "\n",
        "# Verificando se a palavra \"date\" está na lista ordenada usando Binary Search\n",
        "word_to_find = \"date\"\n",
        "index = binary_search_strings(sorted_words_merge, word_to_find)\n",
        "if index != -1:\n",
        "    print(f\"A palavra '{word_to_find}' foi encontrada na posição {index}.\")\n",
        "else:\n",
        "    print(f\"A palavra '{word_to_find}' não foi encontrada.\")\n"
      ],
      "metadata": {
        "id": "_jshJB0NWIXD"
      },
      "execution_count": null,
      "outputs": []
    },
    {
      "cell_type": "markdown",
      "source": [
        "**Explicação:**\n",
        "\n",
        "**Merge Sort e Quick Sort** ordenam as palavras em ordem alfabética utilizando comparações de strings. A função lower() é usada para garantir que a ordenação seja feita de forma insensível ao caso (maiúsculas/minúsculas).\n",
        "\n",
        "**Binary Search** é utilizado para verificar a presença de uma palavra específica em uma lista já ordenada. O algoritmo realiza comparações alfabéticas durante a busca."
      ],
      "metadata": {
        "id": "XsGY4lggWKhD"
      }
    },
    {
      "cell_type": "markdown",
      "source": [
        "### **16.  Aplicação Prática de Busca**\n",
        "\n",
        "Para implementar a busca de um livro específico por **ISBN** em uma lista ordenada de registros de biblioteca usando **Binary Search**, vamos criar um exemplo prático. Suponha que temos uma lista de dicionários, onde cada dicionário representa um livro, e o **ISBN** é a chave para identificar de forma única cada livro.\n",
        "\n",
        " **Estrutura dos Registros:**\n",
        "\n",
        "Cada livro pode ser representado como um dicionário com as chaves ISBN, Título, Autor, e Ano.\n",
        "\n",
        " **Exemplo de Implementação:**\n",
        "\n",
        "**Definição da Função de Binary Search**\n",
        "\n",
        "**Exemplo de Registros de Livros**\n",
        "\n",
        "**Busca de um Livro por ISBN**\n",
        "\n",
        " **Código:**"
      ],
      "metadata": {
        "id": "cv_opdaCNchu"
      }
    },
    {
      "cell_type": "code",
      "source": [
        "# Definir a função Binary Search para procurar o livro pelo ISBN\n",
        "def binary_search_books(books, target_isbn):\n",
        "    low, high = 0, len(books) - 1\n",
        "    while low <= high:\n",
        "        mid = (low + high) // 2\n",
        "        mid_isbn = books[mid][\"ISBN\"]\n",
        "\n",
        "        if mid_isbn == target_isbn:\n",
        "            return books[mid]  # Retorna o livro encontrado\n",
        "        elif mid_isbn < target_isbn:\n",
        "            low = mid + 1\n",
        "        else:\n",
        "            high = mid - 1\n",
        "    return None  # Retorna None se o livro não for encontrado\n",
        "\n",
        "# Exemplo de lista de livros (ordenada por ISBN)\n",
        "library = [\n",
        "    {\"ISBN\": \"978-0-123456-47-2\", \"Título\": \"Livro A\", \"Autor\": \"Autor A\", \"Ano\": 2020},\n",
        "    {\"ISBN\": \"978-0-223456-47-5\", \"Título\": \"Livro B\", \"Autor\": \"Autor B\", \"Ano\": 2021},\n",
        "    {\"ISBN\": \"978-0-323456-47-8\", \"Título\": \"Livro C\", \"Autor\": \"Autor C\", \"Ano\": 2022},\n",
        "    {\"ISBN\": \"978-0-423456-47-1\", \"Título\": \"Livro D\", \"Autor\": \"Autor D\", \"Ano\": 2023},\n",
        "    {\"ISBN\": \"978-0-523456-47-9\", \"Título\": \"Livro E\", \"Autor\": \"Autor E\", \"Ano\": 2019},\n",
        "]\n",
        "\n",
        "# Exemplo de ISBN que desejamos buscar\n",
        "isbn_to_find = \"978-0-323456-47-8\"\n",
        "\n",
        "# Ordenar a lista por ISBN (caso não esteja ordenada)\n",
        "library.sort(key=lambda x: x[\"ISBN\"])\n",
        "\n",
        "# Buscar o livro pelo ISBN\n",
        "book = binary_search_books(library, isbn_to_find)\n",
        "\n",
        "# Exibir o resultado\n",
        "if book:\n",
        "    print(f\"Livro encontrado: {book['Título']} ({book['ISBN']})\")\n",
        "else:\n",
        "    print(f\"Livro com ISBN {isbn_to_find} não encontrado.\")\n"
      ],
      "metadata": {
        "id": "Ug-ZQ2NiXCV5"
      },
      "execution_count": null,
      "outputs": []
    },
    {
      "cell_type": "markdown",
      "source": [
        "**Explicação:**\n",
        "\n",
        "binary_search_books: Esta função realiza uma busca binária na lista de livros, verificando o **ISBN** de cada livro para encontrar o correspondente ao ISBN fornecido.\n",
        "\n",
        "**Ordenação dos livros**: A lista de livros é ordenada pelo **ISBN** para garantir que a busca binária funcione corretamente.\n",
        "\n",
        "**Entrada**: Um ISBN específico é fornecido e a função retorna o livro correspondente ou None se não encontrado.\n",
        "\n",
        "**Exemplo de Saída:**\n",
        "\n",
        "`Livro encontrado: Livro C (978-0-323456-47-8)`\n",
        "\n",
        "**Complexidade:**\n",
        "\n",
        "**Tempo**: A busca binária tem complexidade **O(logn)**, onde n é o número de livros na lista.\n",
        "\n",
        "**Espaço**: A complexidade de espaço é **O(1)**, já que estamos apenas usando a lista de livros e realizando comparações diretas.\n"
      ],
      "metadata": {
        "id": "DYN15MkvXEc5"
      }
    },
    {
      "cell_type": "markdown",
      "source": [
        "### **17. Busca e Ordenação em Dados Reais**\n",
        "Para implementar **Bucket Sort** para ordenar as notas de uma turma de alunos e Interpolation Search para encontrar um aluno com uma nota específica, vamos seguir as seguintes etapas:\n",
        "\n",
        "**Bucket Sort**: Vamos usar o **Bucket Sort** para ordenar as notas. As notas serão distribuídas em baldes (ou buckets) e cada balde será ordenado individualmente, geralmente com um algoritmo simples como o **Insertion Sort**.\n",
        "\n",
        "**Interpolation Search**: Após as notas estarem ordenadas, usaremos o **Interpolation Search** para encontrar a posição de um aluno com uma nota específica. O **Interpolation Search** é eficiente quando os dados estão uniformemente distribuídos, o que é o caso aqui, já que as notas variam de 0 a 100.\n",
        "\n",
        "### **Passo 1: Implementação do Bucket Sort para Ordenação das Notas**\n",
        "\n",
        "O **Bucket Sort** funciona bem para dados uniformemente distribuídos, como as notas dos alunos entre 0 e 100.\n"
      ],
      "metadata": {
        "id": "E0Z7qMzkYq5E"
      }
    },
    {
      "cell_type": "code",
      "source": [
        "def bucket_sort(arr):\n",
        "    if not arr:\n",
        "        return arr\n",
        "\n",
        "    # Determina o número de baldes com base no tamanho da lista\n",
        "    bucket_count = len(arr)\n",
        "    max_value, min_value = max(arr), min(arr)\n",
        "    bucket_range = (max_value - min_value) / bucket_count + 1\n",
        "    buckets = [[] for _ in range(bucket_count)]\n",
        "\n",
        "    # Distribui os elementos nos baldes\n",
        "    for num in arr:\n",
        "        index = int((num - min_value) // bucket_range)\n",
        "        buckets[index].append(num)\n",
        "\n",
        "    # Ordena cada balde usando Insertion Sort\n",
        "    sorted_arr = []\n",
        "    for bucket in buckets:\n",
        "        sorted_arr.extend(sorted(bucket))  # Podemos usar sorted ou insertion sort aqui\n",
        "    return sorted_arr\n"
      ],
      "metadata": {
        "id": "JPum-u_zZYsj"
      },
      "execution_count": null,
      "outputs": []
    },
    {
      "cell_type": "markdown",
      "source": [
        " **Passo 2: Implementação do Interpolation Search para Buscar uma Nota Específica**\n",
        "O **Interpolation Search** é mais eficiente quando os dados estão uniformemente distribuídos. Ele faz uma estimativa da posição da chave, tentando \"interpolar\" entre os valores mínimo e máximo."
      ],
      "metadata": {
        "id": "ks1_AGneZZiT"
      }
    },
    {
      "cell_type": "code",
      "source": [
        "def interpolation_search(arr, target):\n",
        "    low, high = 0, len(arr) - 1\n",
        "\n",
        "    while low <= high and target >= arr[low] and target <= arr[high]:\n",
        "        if low == high:\n",
        "            if arr[low] == target:\n",
        "                return low\n",
        "            return -1\n",
        "\n",
        "        # Interpolação para estimar a posição\n",
        "        pos = low + ((target - arr[low]) * (high - low)) // (arr[high] - arr[low])\n",
        "\n",
        "        # Verifica se encontramos a posição correta\n",
        "        if arr[pos] == target:\n",
        "            return pos\n",
        "        if arr[pos] < target:\n",
        "            low = pos + 1\n",
        "        else:\n",
        "            high = pos - 1\n",
        "\n",
        "    return -1\n"
      ],
      "metadata": {
        "id": "Tci9gM1UZpkC"
      },
      "execution_count": null,
      "outputs": []
    },
    {
      "cell_type": "markdown",
      "source": [
        "**Passo 3: Exemplo Prático**\n",
        "Vamos agora criar uma lista de registros de alunos e suas respectivas notas, ordenar as notas com **Bucket Sort** e, em seguida, usar **Interpolation Search** para encontrar um aluno específico."
      ],
      "metadata": {
        "id": "MSV6NwOYZ6nB"
      }
    },
    {
      "cell_type": "code",
      "source": [
        "# Lista de alunos com suas respectivas notas\n",
        "students = [\n",
        "    {\"Nome\": \"João\", \"Nota\": 78},\n",
        "    {\"Nome\": \"Maria\", \"Nota\": 95},\n",
        "    {\"Nome\": \"Carlos\", \"Nota\": 63},\n",
        "    {\"Nome\": \"Ana\", \"Nota\": 88},\n",
        "    {\"Nome\": \"Luiz\", \"Nota\": 91},\n",
        "    {\"Nome\": \"Fernanda\", \"Nota\": 84},\n",
        "    {\"Nome\": \"Pedro\", \"Nota\": 70},\n",
        "    {\"Nome\": \"Juliana\", \"Nota\": 85},\n",
        "]\n",
        "\n",
        "# Extraindo apenas as notas\n",
        "notes = [student[\"Nota\"] for student in students]\n",
        "\n",
        "# Ordenando as notas usando Bucket Sort\n",
        "sorted_notes = bucket_sort(notes)\n",
        "\n",
        "# Mostrando as notas ordenadas\n",
        "print(\"Notas ordenadas:\", sorted_notes)\n",
        "\n",
        "# Função para encontrar o aluno com uma determinada nota\n",
        "def find_student_by_grade(sorted_notes, target_grade):\n",
        "    # Usando Interpolation Search para encontrar a posição da nota\n",
        "    index = interpolation_search(sorted_notes, target_grade)\n",
        "\n",
        "    if index != -1:\n",
        "        # Encontramos a nota, agora procuramos o aluno correspondente\n",
        "        for student in students:\n",
        "            if student[\"Nota\"] == target_grade:\n",
        "                return student\n",
        "    return None\n",
        "\n",
        "# Exemplo de busca por uma nota específica\n",
        "target_grade = 88\n",
        "student = find_student_by_grade(sorted_notes, target_grade)\n",
        "\n",
        "if student:\n",
        "    print(f\"Aluno encontrado: {student['Nome']} com nota {student['Nota']}\")\n",
        "else:\n",
        "    print(f\"Aluno com nota {target_grade} não encontrado.\")\n"
      ],
      "metadata": {
        "id": "LDgHrdVIaAux",
        "colab": {
          "base_uri": "https://localhost:8080/",
          "height": 211
        },
        "outputId": "61bd562c-14e1-45d4-de2f-0201adbce488"
      },
      "execution_count": null,
      "outputs": [
        {
          "output_type": "error",
          "ename": "NameError",
          "evalue": "name 'bucket_sort' is not defined",
          "traceback": [
            "\u001b[0;31m---------------------------------------------------------------------------\u001b[0m",
            "\u001b[0;31mNameError\u001b[0m                                 Traceback (most recent call last)",
            "\u001b[0;32m<ipython-input-2-523d2f5465da>\u001b[0m in \u001b[0;36m<cell line: 17>\u001b[0;34m()\u001b[0m\n\u001b[1;32m     15\u001b[0m \u001b[0;34m\u001b[0m\u001b[0m\n\u001b[1;32m     16\u001b[0m \u001b[0;31m# Ordenando as notas usando Bucket Sort\u001b[0m\u001b[0;34m\u001b[0m\u001b[0;34m\u001b[0m\u001b[0m\n\u001b[0;32m---> 17\u001b[0;31m \u001b[0msorted_notes\u001b[0m \u001b[0;34m=\u001b[0m \u001b[0mbucket_sort\u001b[0m\u001b[0;34m(\u001b[0m\u001b[0mnotes\u001b[0m\u001b[0;34m)\u001b[0m\u001b[0;34m\u001b[0m\u001b[0;34m\u001b[0m\u001b[0m\n\u001b[0m\u001b[1;32m     18\u001b[0m \u001b[0;34m\u001b[0m\u001b[0m\n\u001b[1;32m     19\u001b[0m \u001b[0;31m# Mostrando as notas ordenadas\u001b[0m\u001b[0;34m\u001b[0m\u001b[0;34m\u001b[0m\u001b[0m\n",
            "\u001b[0;31mNameError\u001b[0m: name 'bucket_sort' is not defined"
          ]
        }
      ]
    },
    {
      "cell_type": "markdown",
      "source": [
        "**Explicação do Código:**\n",
        "\n",
        "**Bucket Sort**: Ordenamos as notas dos alunos, distribuindo-as em baldes, e então ordenamos cada balde individualmente.\n",
        "\n",
        "**Interpolation Search**: Usamos este algoritmo para procurar a nota específica na lista ordenada. Ele tenta estimar a posição da chave com base na interpolação entre os valores mínimo e máximo.\n",
        "\n",
        "**Busca pelo Aluno**: Após encontrar a posição da nota usando o **Interpolation Search**, buscamos o aluno correspondente a essa nota.\n",
        "\n",
        "Exemplo de Saída:\n",
        "Notas ordenadas: [63, 70, 78, 84, 85, 88, 91, 95]\n",
        "Aluno encontrado: Ana com nota 88"
      ],
      "metadata": {
        "id": "1cyUVMVhaBcr"
      }
    },
    {
      "cell_type": "markdown",
      "source": [
        "**Exemplo de Saída:**\n",
        "\n",
        "`Notas ordenadas: [63, 70, 78, 84, 85, 88, 91, 95]`\n",
        "\n",
        "`Aluno encontrado: Ana com nota 88`"
      ],
      "metadata": {
        "id": "xS782TWfaRGo"
      }
    },
    {
      "cell_type": "markdown",
      "source": [
        "**Complexidade:**\n",
        "\n",
        "**Bucket Sort**: A complexidade de tempo é O(n+k), onde n é o número de notas e k é o número de baldes. O tempo de ordenação depende de como os elementos são distribuídos nos baldes.\n",
        "\n",
        "**Interpolation Search**: A complexidade de tempo é O(loglogn) no melhor caso, mas em um cenário não uniforme, pode degradar para O(n)."
      ],
      "metadata": {
        "id": "qE4U-UsxaXgQ"
      }
    },
    {
      "cell_type": "markdown",
      "source": [
        "### **18. Ordenação Estável e Instável**"
      ],
      "metadata": {
        "id": "mlGHLWxLbrzU"
      }
    },
    {
      "cell_type": "markdown",
      "source": [
        "### **Algoritmos de Ordenação Estáveis**\n",
        "**1. Merge Sort**: O Merge Sort é um algoritmo estável. Quando dois elementos com valores iguais são encontrados, o algoritmo mantém a ordem relativa deles.\n",
        "\n",
        "**Exemplo**: Se tivermos a lista [2a, 2b, 1], ao ordenar, ela se torna [1, 2a, 2b]. Note que 2a e 2b permanecem na mesma ordem em relação um ao outro.\n",
        "\n",
        "**2. Bubble Sort**: O Bubble Sort é um algoritmo estável. Quando dois elementos são iguais, ele não altera a ordem deles.\n",
        "\n",
        "**Exemplo**: A lista [2a, 2b, 1] seria ordenada como [1, 2a, 2b], mantendo a ordem de 2a e 2b.\n",
        "\n",
        "**3. Insertion Sort**: O Insertion Sort também é estável, pois mantém a ordem dos elementos iguais durante a ordenação.\n",
        "\n",
        "**Exemplo**: Para [2a, 2b, 1], a ordenação resultaria em [1, 2a, 2b].\n",
        "\n",
        "**4. Bucket Sort** (**em algumas implementações**): O Bucket Sort pode ser estável, dependendo de como os elementos são distribuídos nos baldes e ordenados dentro de cada balde (geralmente, se usar um algoritmo estável para ordenar dentro de cada balde).\n",
        "\n",
        "**Exemplo**: Com a lista [2a, 2b, 1], se cada balde for ordenado usando um algoritmo estável, a lista final será [1, 2a, 2b].\n",
        "\n",
        "**5. Radix Sort**: O Radix Sort é estável, pois ele classifica os números baseados em dígitos individuais (da ordem mais baixa para a mais alta), e a ordenação de dígitos individuais é feita de forma estável, preservando a ordem relativa dos elementos com o mesmo valor.\n",
        "\n",
        "**Exemplo**: Entrada: [4a, 3, 4b, 1] Após a ordenação (Radix Sort): [1, 3, 4a, 4b]\n",
        "\n",
        "### **Algoritmos de Ordenação Instáveis**\n",
        "**1. Quick Sort**: O Quick Sort é instável. Quando elementos com valores iguais estão em posições diferentes, a ordem relativa entre eles pode ser alterada.\n",
        "\n",
        "**Exemplo**: Com a lista [2a, 2b, 1], o Quick Sort pode colocar 2a e 2b em posições diferentes, tornando a ordenação como [1, 2b, 2a] (a ordem de 2b e 2a foi alterada).\n",
        "\n",
        "**2. Selection Sort**: O Selection Sort também é instável, pois pode alterar a ordem relativa dos elementos iguais durante o processo de seleção do menor ou maior valor.\n",
        "\n",
        "**Exemplo**: A lista [2a, 2b, 1] poderia ser ordenada como [1, 2b, 2a], alterando a ordem de 2a e 2b.\n",
        "\n",
        "**3. Shell Sort**: O Shell Sort, dependendo da implementação do intervalo (gap) utilizado, pode ser instável.\n",
        "\n",
        "**Exemplo**: Com a lista [2a, 2b, 1], o Shell Sort pode reordenar os elementos e mudar a posição de 2a e 2b, produzindo algo como [1, 2b, 2a].\n",
        "\n",
        "**4. Exponential Search**: O Exponential Search não é um algoritmo de ordenação. Ele é usado para encontrar a posição de um valor em uma lista ordenada, então a questão de estabilidade não se aplica diretamente.\n",
        "\n",
        "**5. Binary Search**: Assim como o Exponential Search, o Binary Search é um algoritmo de busca em listas já ordenadas, e não um algoritmo de ordenação, logo a questão de estabilidade também não se aplica aqui.\n",
        "\n",
        "**6. Jump Search**: O Jump Search também é um algoritmo de busca e não um algoritmo de ordenação, portanto, a estabilidade não é uma característica relevante."
      ],
      "metadata": {
        "id": "thHScvztb637"
      }
    },
    {
      "cell_type": "markdown",
      "source": [
        "### **19. Análise Visual dos Algoritmos**"
      ],
      "metadata": {
        "id": "dc6WnkOSbyrl"
      }
    },
    {
      "cell_type": "code",
      "source": [
        "import matplotlib.pyplot as plt\n",
        "import numpy as np\n",
        "\n",
        "# Função para visualizar o Merge Sort\n",
        "def merge_sort_visualization(arr):\n",
        "    arr_copy = arr.copy()\n",
        "    steps = []\n",
        "\n",
        "    def merge_sort_step(arr):\n",
        "        if len(arr) <= 1:\n",
        "            return arr\n",
        "        mid = len(arr) // 2\n",
        "        left = merge_sort_step(arr[:mid])\n",
        "        right = merge_sort_step(arr[mid:])\n",
        "        merged = merge(left, right)\n",
        "        steps.append(merged.copy())\n",
        "        return merged\n",
        "\n",
        "    def merge(left, right):\n",
        "        result = []\n",
        "        i = j = 0\n",
        "        while i < len(left) and j < len(right):\n",
        "            if left[i] < right[j]:\n",
        "                result.append(left[i])\n",
        "                i += 1\n",
        "            else:\n",
        "                result.append(right[j])\n",
        "                j += 1\n",
        "        result.extend(left[i:])\n",
        "        result.extend(right[j:])\n",
        "        return result\n",
        "\n",
        "    merge_sort_step(arr_copy)\n",
        "    return steps\n",
        "\n",
        "# Geração do gráfico de Merge Sort\n",
        "arr = [38, 27, 43, 3, 9, 82, 10]\n",
        "steps = merge_sort_visualization(arr)\n",
        "\n",
        "# Plotar as etapas\n",
        "fig, axs = plt.subplots(len(steps), 1, figsize=(10, 2 * len(steps)))\n",
        "if len(steps) == 1:\n",
        "    axs = [axs]\n",
        "\n",
        "for i, step in enumerate(steps):\n",
        "    axs[i].bar(range(len(step)), step, color='lightblue')\n",
        "    axs[i].set_title(f\"Step {i + 1}\")\n",
        "    axs[i].set_ylim(0, max(arr) + 10)\n",
        "\n",
        "plt.tight_layout()\n",
        "plt.show()"
      ],
      "metadata": {
        "colab": {
          "base_uri": "https://localhost:8080/",
          "height": 429
        },
        "id": "tMg6GBnug8_9",
        "outputId": "572b011e-fa87-463c-a257-9dec567750a5"
      },
      "execution_count": null,
      "outputs": [
        {
          "output_type": "display_data",
          "data": {
            "text/plain": [
              "<Figure size 1000x1200 with 6 Axes>"
            ],
            "image/png": "[encoded data removed]"
          },
          "metadata": {}
        }
      ]
    },
    {
      "cell_type": "markdown",
      "source": [
        "### **20. Desafios de Implementação**"
      ],
      "metadata": {
        "id": "poixbRrTb2sz"
      }
    },
    {
      "cell_type": "code",
      "source": [
        "import time\n",
        "import random\n",
        "\n",
        "# Funções de ordenação\n",
        "def bubble_sort(arr):\n",
        "    n = len(arr)\n",
        "    for i in range(n):\n",
        "        for j in range(0, n-i-1):\n",
        "            if arr[j] > arr[j+1]:\n",
        "                arr[j], arr[j+1] = arr[j+1], arr[j]\n",
        "\n",
        "def selection_sort(arr):\n",
        "    n = len(arr)\n",
        "    for i in range(n):\n",
        "        min_idx = i\n",
        "        for j in range(i+1, n):\n",
        "            if arr[j] < arr[min_idx]:\n",
        "                min_idx = j\n",
        "        arr[i], arr[min_idx] = arr[min_idx], arr[i]\n",
        "\n",
        "def quick_sort(arr):\n",
        "    if len(arr) <= 1:\n",
        "        return arr\n",
        "    pivot = arr[len(arr) // 2]\n",
        "    left = [x for x in arr if x < pivot]\n",
        "    middle = [x for x in arr if x == pivot]\n",
        "    right = [x for x in arr if x > pivot]\n",
        "    return quick_sort(left) + middle + quick_sort(right)\n",
        "\n",
        "# Funções de busca\n",
        "def linear_search(arr, x):\n",
        "    for i in range(len(arr)):\n",
        "        if arr[i] == x:\n",
        "            return i\n",
        "    return -1\n",
        "\n",
        "def binary_search(arr, x):\n",
        "    left, right = 0, len(arr) - 1\n",
        "    while left <= right:\n",
        "        mid = (left + right) // 2\n",
        "        if arr[mid] == x:\n",
        "            return mid\n",
        "        elif arr[mid] < x:\n",
        "            left = mid + 1\n",
        "        else:\n",
        "            right = mid - 1\n",
        "    return -1\n",
        "\n",
        "# Função para medir o tempo de execução\n",
        "def measure_time(func, *args):\n",
        "    start_time = time.time()\n",
        "    result = func(*args)\n",
        "    end_time = time.time()\n",
        "    return result, end_time - start_time\n",
        "\n",
        "# Função principal para interação com o usuário\n",
        "def main():\n",
        "    print(\"Escolha um algoritmo de ordenação:\")\n",
        "    print(\"1. Bubble Sort\")\n",
        "    print(\"2. Selection Sort\")\n",
        "    print(\"3. Quick Sort\")\n",
        "    sort_choice = int(input(\"Digite o número do algoritmo: \"))\n",
        "\n",
        "    print(\"\\nEscolha um algoritmo de busca:\")\n",
        "    print(\"1. Busca Linear\")\n",
        "    print(\"2. Busca Binária\")\n",
        "    search_choice = int(input(\"Digite o número do algoritmo: \"))\n",
        "\n",
        "    n = int(input(\"\\nDigite o tamanho da lista: \"))\n",
        "    arr = random.sample(range(1, 10000), n)\n",
        "    sorted_arr = arr.copy()\n",
        "\n",
        "    # Ordenação\n",
        "    if sort_choice == 1:\n",
        "        print(\"\\nExecutando Bubble Sort...\")\n",
        "        sorted_arr, sort_time = measure_time(bubble_sort, sorted_arr)\n",
        "    elif sort_choice == 2:\n",
        "        print(\"\\nExecutando Selection Sort...\")\n",
        "        sorted_arr, sort_time = measure_time(selection_sort, sorted_arr)\n",
        "    elif sort_choice == 3:\n",
        "        print(\"\\nExecutando Quick Sort...\")\n",
        "        sorted_arr, sort_time = measure_time(quick_sort, sorted_arr)\n",
        "    else:\n",
        "        print(\"Escolha inválida.\")\n",
        "        return\n",
        "\n",
        "    print(f\"\\nTempo de execução da ordenação: {sort_time:.6f} segundos\")\n",
        "\n",
        "    # Busca\n",
        "    target = int(input(\"\\nDigite o número a ser buscado na lista ordenada: \"))\n",
        "\n",
        "    if search_choice == 1:\n",
        "        print(\"\\nExecutando Busca Linear...\")\n",
        "        search_result, search_time = measure_time(linear_search, sorted_arr, target)\n",
        "    elif search_choice == 2:\n",
        "        print(\"\\nExecutando Busca Binária...\")\n",
        "        search_result, search_time = measure_time(binary_search, sorted_arr, target)\n",
        "    else:\n",
        "        print(\"Escolha inválida.\")\n",
        "        return\n",
        "\n",
        "    print(f\"\\nTempo de execução da busca: {search_time:.6f} segundos\")\n",
        "    if search_result != -1:\n",
        "        print(f\"Elemento encontrado no índice {search_result}.\")\n",
        "    else:\n",
        "        print(\"Elemento não encontrado.\")\n",
        "\n",
        "if __name__ == \"__main__\":\n",
        "    main()"
      ],
      "metadata": {
        "colab": {
          "base_uri": "https://localhost:8080/"
        },
        "id": "NUCFYWzihU9j",
        "outputId": "95106978-6c7f-433c-804e-eeed2f31741d"
      },
      "execution_count": null,
      "outputs": [
        {
          "output_type": "stream",
          "name": "stdout",
          "text": [
            "Escolha um algoritmo de ordenação:\n",
            "1. Bubble Sort\n",
            "2. Selection Sort\n",
            "3. Quick Sort\n",
            "Digite o número do algoritmo: 3\n",
            "\n",
            "Escolha um algoritmo de busca:\n",
            "1. Busca Linear\n",
            "2. Busca Binária\n",
            "Digite o número do algoritmo: 7\n",
            "\n",
            "Digite o tamanho da lista: 3\n",
            "\n",
            "Executando Quick Sort...\n",
            "\n",
            "Tempo de execução da ordenação: 0.000013 segundos\n",
            "\n",
            "Digite o número a ser buscado na lista ordenada: 7\n",
            "Escolha inválida.\n"
          ]
        }
      ]
    }
  ]
}
